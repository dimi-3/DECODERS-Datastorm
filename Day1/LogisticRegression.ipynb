{
 "cells": [
  {
   "cell_type": "markdown",
   "metadata": {
    "colab": {
     "base_uri": "https://localhost:8080/",
     "height": 125
    },
    "colab_type": "code",
    "id": "YVpv_4f3fDg7",
    "outputId": "fe4ad1da-b58f-467e-b4f3-bdd642e59558"
   },
   "source": [
    "# Logistic Regression"
   ]
  },
  {
   "cell_type": "code",
   "execution_count": 4,
   "metadata": {
    "colab": {},
    "colab_type": "code",
    "id": "jzTg-4CBd1Vh"
   },
   "outputs": [],
   "source": [
    "# Importing libraries for building the neural network\n",
    "import pandas as pd\n",
    "import io\n",
    "import numpy as np\n",
    "from sklearn.model_selection import train_test_split,StratifiedKFold,cross_val_score,RandomizedSearchCV\n",
    "from sklearn.preprocessing import LabelEncoder,StandardScaler\n",
    "from sklearn.metrics import classification_report, confusion_matrix"
   ]
  },
  {
   "cell_type": "code",
   "execution_count": 5,
   "metadata": {
    "colab": {
     "base_uri": "https://localhost:8080/",
     "height": 294
    },
    "colab_type": "code",
    "id": "6Kt9I8HYfJVA",
    "outputId": "a65fc47c-9461-47ed-c27b-b5a09ee0ed7d"
   },
   "outputs": [
    {
     "name": "stdout",
     "output_type": "stream",
     "text": [
      "(24000, 25)\n",
      "(6000, 24)\n",
      "['Client_ID', 'Balance_Limit_V1', 'Gender', 'EDUCATION_STATUS', 'MARITAL_STATUS', 'AGE', 'PAY_JULY', 'PAY_AUG', 'PAY_SEP', 'PAY_OCT', 'PAY_NOV', 'PAY_DEC', 'DUE_AMT_JULY', 'DUE_AMT_AUG', 'DUE_AMT_SEP', 'DUE_AMT_OCT', 'DUE_AMT_NOV', 'DUE_AMT_DEC', 'PAID_AMT_JULY', 'PAID_AMT_AUG', 'PAID_AMT_SEP', 'PAID_AMT_OCT', 'PAID_AMT_NOV', 'PAID_AMT_DEC', 'NEXT_MONTH_DEFAULT']\n",
      "['Client_ID', 'Balance_Limit_V1', 'Gender', 'EDUCATION_STATUS', 'MARITAL_STATUS', 'AGE', 'PAY_JULY', 'PAY_AUG', 'PAY_SEP', 'PAY_OCT', 'PAY_NOV', 'PAY_DEC', 'DUE_AMT_JULY', 'DUE_AMT_AUG', 'DUE_AMT_SEP', 'DUE_AMT_OCT', 'DUE_AMT_NOV', 'DUE_AMT_DEC', 'PAID_AMT_JULY', 'PAID_AMT_AUG', 'PAID_AMT_SEP', 'PAID_AMT_OCT', 'PAID_AMT_NOV', 'PAID_AMT_DEC']\n"
     ]
    },
    {
     "data": {
      "text/html": [
       "<div>\n",
       "<style scoped>\n",
       "    .dataframe tbody tr th:only-of-type {\n",
       "        vertical-align: middle;\n",
       "    }\n",
       "\n",
       "    .dataframe tbody tr th {\n",
       "        vertical-align: top;\n",
       "    }\n",
       "\n",
       "    .dataframe thead th {\n",
       "        text-align: right;\n",
       "    }\n",
       "</style>\n",
       "<table border=\"1\" class=\"dataframe\">\n",
       "  <thead>\n",
       "    <tr style=\"text-align: right;\">\n",
       "      <th></th>\n",
       "      <th>Client_ID</th>\n",
       "      <th>Balance_Limit_V1</th>\n",
       "      <th>Gender</th>\n",
       "      <th>EDUCATION_STATUS</th>\n",
       "      <th>MARITAL_STATUS</th>\n",
       "      <th>AGE</th>\n",
       "      <th>PAY_JULY</th>\n",
       "      <th>PAY_AUG</th>\n",
       "      <th>PAY_SEP</th>\n",
       "      <th>PAY_OCT</th>\n",
       "      <th>...</th>\n",
       "      <th>DUE_AMT_OCT</th>\n",
       "      <th>DUE_AMT_NOV</th>\n",
       "      <th>DUE_AMT_DEC</th>\n",
       "      <th>PAID_AMT_JULY</th>\n",
       "      <th>PAID_AMT_AUG</th>\n",
       "      <th>PAID_AMT_SEP</th>\n",
       "      <th>PAID_AMT_OCT</th>\n",
       "      <th>PAID_AMT_NOV</th>\n",
       "      <th>PAID_AMT_DEC</th>\n",
       "      <th>NEXT_MONTH_DEFAULT</th>\n",
       "    </tr>\n",
       "  </thead>\n",
       "  <tbody>\n",
       "    <tr>\n",
       "      <th>0</th>\n",
       "      <td>A2</td>\n",
       "      <td>1M</td>\n",
       "      <td>M</td>\n",
       "      <td>Graduate</td>\n",
       "      <td>Other</td>\n",
       "      <td>31-45</td>\n",
       "      <td>-1</td>\n",
       "      <td>-1</td>\n",
       "      <td>-1</td>\n",
       "      <td>-1</td>\n",
       "      <td>...</td>\n",
       "      <td>39418</td>\n",
       "      <td>162772</td>\n",
       "      <td>-13982</td>\n",
       "      <td>3437</td>\n",
       "      <td>6004</td>\n",
       "      <td>39418</td>\n",
       "      <td>162772</td>\n",
       "      <td>0</td>\n",
       "      <td>538165</td>\n",
       "      <td>0</td>\n",
       "    </tr>\n",
       "    <tr>\n",
       "      <th>1</th>\n",
       "      <td>A3</td>\n",
       "      <td>1M</td>\n",
       "      <td>F</td>\n",
       "      <td>High School</td>\n",
       "      <td>Other</td>\n",
       "      <td>Less than 30</td>\n",
       "      <td>0</td>\n",
       "      <td>-1</td>\n",
       "      <td>-1</td>\n",
       "      <td>-1</td>\n",
       "      <td>...</td>\n",
       "      <td>43530</td>\n",
       "      <td>80811</td>\n",
       "      <td>124590</td>\n",
       "      <td>151818</td>\n",
       "      <td>46200</td>\n",
       "      <td>43530</td>\n",
       "      <td>80811</td>\n",
       "      <td>942</td>\n",
       "      <td>33666</td>\n",
       "      <td>0</td>\n",
       "    </tr>\n",
       "    <tr>\n",
       "      <th>2</th>\n",
       "      <td>A4</td>\n",
       "      <td>100K</td>\n",
       "      <td>F</td>\n",
       "      <td>High School</td>\n",
       "      <td>Single</td>\n",
       "      <td>31-45</td>\n",
       "      <td>4</td>\n",
       "      <td>3</td>\n",
       "      <td>2</td>\n",
       "      <td>2</td>\n",
       "      <td>...</td>\n",
       "      <td>0</td>\n",
       "      <td>0</td>\n",
       "      <td>0</td>\n",
       "      <td>0</td>\n",
       "      <td>0</td>\n",
       "      <td>0</td>\n",
       "      <td>0</td>\n",
       "      <td>0</td>\n",
       "      <td>0</td>\n",
       "      <td>1</td>\n",
       "    </tr>\n",
       "  </tbody>\n",
       "</table>\n",
       "<p>3 rows × 25 columns</p>\n",
       "</div>"
      ],
      "text/plain": [
       "  Client_ID Balance_Limit_V1 Gender EDUCATION_STATUS MARITAL_STATUS  \\\n",
       "0        A2               1M      M         Graduate          Other   \n",
       "1        A3               1M      F      High School          Other   \n",
       "2        A4             100K      F      High School         Single   \n",
       "\n",
       "            AGE  PAY_JULY  PAY_AUG  PAY_SEP  PAY_OCT         ...          \\\n",
       "0         31-45        -1       -1       -1       -1         ...           \n",
       "1  Less than 30         0       -1       -1       -1         ...           \n",
       "2         31-45         4        3        2        2         ...           \n",
       "\n",
       "   DUE_AMT_OCT  DUE_AMT_NOV  DUE_AMT_DEC  PAID_AMT_JULY  PAID_AMT_AUG  \\\n",
       "0        39418       162772       -13982           3437          6004   \n",
       "1        43530        80811       124590         151818         46200   \n",
       "2            0            0            0              0             0   \n",
       "\n",
       "   PAID_AMT_SEP  PAID_AMT_OCT  PAID_AMT_NOV  PAID_AMT_DEC  NEXT_MONTH_DEFAULT  \n",
       "0         39418        162772             0        538165                   0  \n",
       "1         43530         80811           942         33666                   0  \n",
       "2             0             0             0             0                   1  \n",
       "\n",
       "[3 rows x 25 columns]"
      ]
     },
     "execution_count": 5,
     "metadata": {},
     "output_type": "execute_result"
    }
   ],
   "source": [
    "data = pd.read_csv(\"../Dataset/credit_card_default_train.csv\").dropna()\n",
    "test = pd.read_csv(\"../Dataset/credit_card_default_test.csv\").dropna()\n",
    "print(data.shape)\n",
    "print(test.shape)\n",
    "print(list(data.columns))\n",
    "print(list(test.columns))\n",
    "data.head(n=3)"
   ]
  },
  {
   "cell_type": "code",
   "execution_count": 6,
   "metadata": {
    "colab": {},
    "colab_type": "code",
    "id": "xPA_pLbQghBO"
   },
   "outputs": [],
   "source": [
    "# prediction_var = ['Gender', 'EDUCATION_STATUS', 'MARITAL_STATUS', \n",
    "#            'PAY_JULY', 'PAY_AUG', 'PAY_SEP', 'PAY_OCT', 'PAY_NOV', 'PAY_DEC',\n",
    "#            'DUE_AMT_JULY', 'DUE_AMT_AUG', 'DUE_AMT_SEP','DUE_AMT_OCT','DUE_AMT_NOV','DUE_AMT_DEC', 'PAID_AMT_JULY', 'PAID_AMT_AUG', 'PAID_AMT_SEP', 'PAID_AMT_OCT', 'PAID_AMT_NOV', 'PAID_AMT_DEC']\n",
    "prediction_var = ['Balance_Limit_V1', 'Gender', 'EDUCATION_STATUS', 'MARITAL_STATUS', 'AGE', 'PAY_JULY', 'PAY_AUG', 'PAY_SEP', 'PAY_OCT', 'PAY_NOV', 'PAY_DEC', 'DUE_AMT_JULY', 'DUE_AMT_AUG', 'DUE_AMT_SEP','DUE_AMT_OCT','DUE_AMT_NOV','DUE_AMT_DEC', 'PAID_AMT_JULY', 'PAID_AMT_AUG', 'PAID_AMT_SEP', 'PAID_AMT_OCT', 'PAID_AMT_NOV', 'PAID_AMT_DEC']\n",
    "X = data[prediction_var]\n",
    "Y = data.NEXT_MONTH_DEFAULT\n",
    "test_id= test['Client_ID']\n",
    "test = test[prediction_var]"
   ]
  },
  {
   "cell_type": "code",
   "execution_count": 7,
   "metadata": {
    "colab": {
     "base_uri": "https://localhost:8080/",
     "height": 545
    },
    "colab_type": "code",
    "id": "pVdx-G37h9T5",
    "outputId": "1539f10d-4a4a-46da-d5f3-cc3f6fd26334"
   },
   "outputs": [
    {
     "name": "stderr",
     "output_type": "stream",
     "text": [
      "F:\\Program Files\\anaconda\\lib\\site-packages\\ipykernel_launcher.py:4: SettingWithCopyWarning: \n",
      "A value is trying to be set on a copy of a slice from a DataFrame.\n",
      "Try using .loc[row_indexer,col_indexer] = value instead\n",
      "\n",
      "See the caveats in the documentation: http://pandas.pydata.org/pandas-docs/stable/indexing.html#indexing-view-versus-copy\n",
      "  after removing the cwd from sys.path.\n",
      "F:\\Program Files\\anaconda\\lib\\site-packages\\ipykernel_launcher.py:6: SettingWithCopyWarning: \n",
      "A value is trying to be set on a copy of a slice from a DataFrame.\n",
      "Try using .loc[row_indexer,col_indexer] = value instead\n",
      "\n",
      "See the caveats in the documentation: http://pandas.pydata.org/pandas-docs/stable/indexing.html#indexing-view-versus-copy\n",
      "  \n",
      "F:\\Program Files\\anaconda\\lib\\site-packages\\ipykernel_launcher.py:8: SettingWithCopyWarning: \n",
      "A value is trying to be set on a copy of a slice from a DataFrame.\n",
      "Try using .loc[row_indexer,col_indexer] = value instead\n",
      "\n",
      "See the caveats in the documentation: http://pandas.pydata.org/pandas-docs/stable/indexing.html#indexing-view-versus-copy\n",
      "  \n",
      "F:\\Program Files\\anaconda\\lib\\site-packages\\ipykernel_launcher.py:10: SettingWithCopyWarning: \n",
      "A value is trying to be set on a copy of a slice from a DataFrame.\n",
      "Try using .loc[row_indexer,col_indexer] = value instead\n",
      "\n",
      "See the caveats in the documentation: http://pandas.pydata.org/pandas-docs/stable/indexing.html#indexing-view-versus-copy\n",
      "  # Remove the CWD from sys.path while we load stuff.\n",
      "F:\\Program Files\\anaconda\\lib\\site-packages\\ipykernel_launcher.py:12: SettingWithCopyWarning: \n",
      "A value is trying to be set on a copy of a slice from a DataFrame.\n",
      "Try using .loc[row_indexer,col_indexer] = value instead\n",
      "\n",
      "See the caveats in the documentation: http://pandas.pydata.org/pandas-docs/stable/indexing.html#indexing-view-versus-copy\n",
      "  if sys.path[0] == '':\n"
     ]
    }
   ],
   "source": [
    "# clean the data\n",
    "encoder = LabelEncoder()\n",
    "encoder.fit(X['Balance_Limit_V1'])\n",
    "(X['Balance_Limit_V1']) = encoder.transform(X['Balance_Limit_V1'])\n",
    "encoder.fit(X['Gender'])\n",
    "(X['Gender']) = encoder.transform(X['Gender'])\n",
    "encoder.fit(X['EDUCATION_STATUS'])\n",
    "(X['EDUCATION_STATUS']) = encoder.transform(X['EDUCATION_STATUS'])\n",
    "encoder.fit(X['MARITAL_STATUS'])\n",
    "(X['MARITAL_STATUS']) = encoder.transform(X['MARITAL_STATUS'])\n",
    "encoder.fit(X['AGE'])\n",
    "(X['AGE']) = encoder.transform(X['AGE'])\n",
    "\n",
    "encoder.fit(test['Balance_Limit_V1'])\n",
    "(test['Balance_Limit_V1']) = encoder.transform(test['Balance_Limit_V1'])\n",
    "encoder.fit(test['Gender'])\n",
    "(test['Gender']) = encoder.transform(test['Gender'])\n",
    "encoder.fit(test['EDUCATION_STATUS'])\n",
    "(test['EDUCATION_STATUS']) = encoder.transform(test['EDUCATION_STATUS'])\n",
    "encoder.fit(test['MARITAL_STATUS'])\n",
    "(test['MARITAL_STATUS']) = encoder.transform(test['MARITAL_STATUS'])\n",
    "encoder.fit(test['AGE'])\n",
    "(test['AGE']) = encoder.transform(test['AGE'])\n",
    "\n",
    "\n",
    "encoder.fit(Y)\n",
    "encoded_Y = encoder.transform(Y)"
   ]
  },
  {
   "cell_type": "code",
   "execution_count": 8,
   "metadata": {
    "colab": {},
    "colab_type": "code",
    "id": "S81Usj8Zi2vc"
   },
   "outputs": [],
   "source": [
    "# converted all the columns to float\n",
    "X=X.astype(float)\n",
    "test=test.astype(float)\n",
    "Y=Y.astype(float)"
   ]
  },
  {
   "cell_type": "code",
   "execution_count": 9,
   "metadata": {
    "colab": {},
    "colab_type": "code",
    "id": "KEoTrCAyi415"
   },
   "outputs": [],
   "source": [
    "# standardized the data\n",
    "sc = StandardScaler()\n",
    "X = sc.fit_transform(X)\n",
    "test = sc.fit_transform(test)\n"
   ]
  },
  {
   "cell_type": "markdown",
   "metadata": {},
   "source": [
    "## Feature Engineering"
   ]
  },
  {
   "cell_type": "code",
   "execution_count": 10,
   "metadata": {
    "colab": {
     "base_uri": "https://localhost:8080/",
     "height": 386
    },
    "colab_type": "code",
    "id": "pnDyLqUxghbQ",
    "outputId": "79220c97-67ee-4536-81cc-316d5975a5ad"
   },
   "outputs": [
    {
     "ename": "ModuleNotFoundError",
     "evalue": "No module named 'imblearn'",
     "output_type": "error",
     "traceback": [
      "\u001b[1;31m---------------------------------------------------------------------------\u001b[0m",
      "\u001b[1;31mModuleNotFoundError\u001b[0m                       Traceback (most recent call last)",
      "\u001b[1;32m<ipython-input-10-c05fb62e85bc>\u001b[0m in \u001b[0;36m<module>\u001b[1;34m()\u001b[0m\n\u001b[0;32m      1\u001b[0m \u001b[1;31m# oversampling as the data set is unbalanced\u001b[0m\u001b[1;33m\u001b[0m\u001b[1;33m\u001b[0m\u001b[0m\n\u001b[1;32m----> 2\u001b[1;33m \u001b[1;32mfrom\u001b[0m \u001b[0mimblearn\u001b[0m\u001b[1;33m.\u001b[0m\u001b[0mover_sampling\u001b[0m \u001b[1;32mimport\u001b[0m \u001b[0mSMOTE\u001b[0m\u001b[1;33m\u001b[0m\u001b[0m\n\u001b[0m\u001b[0;32m      3\u001b[0m \u001b[1;32mfrom\u001b[0m \u001b[0msklearn\u001b[0m\u001b[1;33m.\u001b[0m\u001b[0mmodel_selection\u001b[0m \u001b[1;32mimport\u001b[0m \u001b[0mtrain_test_split\u001b[0m\u001b[1;33m\u001b[0m\u001b[0m\n\u001b[0;32m      4\u001b[0m \u001b[0mos\u001b[0m \u001b[1;33m=\u001b[0m \u001b[0mSMOTE\u001b[0m\u001b[1;33m(\u001b[0m\u001b[0mrandom_state\u001b[0m\u001b[1;33m=\u001b[0m\u001b[1;36m0\u001b[0m\u001b[1;33m)\u001b[0m\u001b[1;33m\u001b[0m\u001b[0m\n\u001b[0;32m      5\u001b[0m \u001b[0mos_data_X\u001b[0m\u001b[1;33m,\u001b[0m\u001b[0mos_data_y\u001b[0m\u001b[1;33m=\u001b[0m\u001b[0mos\u001b[0m\u001b[1;33m.\u001b[0m\u001b[0mfit_sample\u001b[0m\u001b[1;33m(\u001b[0m\u001b[0mX\u001b[0m\u001b[1;33m,\u001b[0m \u001b[0mY\u001b[0m\u001b[1;33m)\u001b[0m\u001b[1;33m\u001b[0m\u001b[0m\n",
      "\u001b[1;31mModuleNotFoundError\u001b[0m: No module named 'imblearn'"
     ]
    }
   ],
   "source": [
    "# oversampling as the data set is unbalanced\n",
    "from imblearn.over_sampling import SMOTE\n",
    "from sklearn.model_selection import train_test_split\n",
    "os = SMOTE(random_state=0)\n",
    "os_data_X,os_data_y=os.fit_sample(X, Y)\n",
    "os_data_X = pd.DataFrame(data=X,columns=prediction_var )\n",
    "os_data_y= pd.DataFrame(data=Y,columns=['NEXT_MONTH_DEFAULT'])"
   ]
  },
  {
   "cell_type": "code",
   "execution_count": 11,
   "metadata": {
    "colab": {
     "base_uri": "https://localhost:8080/",
     "height": 70
    },
    "colab_type": "code",
    "id": "oeqa9_fNhpgh",
    "outputId": "20873830-e40f-4ab1-b01b-b653f5420f65"
   },
   "outputs": [
    {
     "name": "stdout",
     "output_type": "stream",
     "text": [
      "[ True  True  True  True False  True  True  True  True  True  True  True\n",
      " False  True  True False  True  True  True  True  True  True  True]\n",
      "[1 1 1 1 4 1 1 1 1 1 1 1 2 1 1 3 1 1 1 1 1 1 1]\n"
     ]
    }
   ],
   "source": [
    "from sklearn.feature_selection import RFE\n",
    "from sklearn.linear_model import LogisticRegression\n",
    "logreg = LogisticRegression()\n",
    "rfe = RFE(logreg, 20)\n",
    "rfe = rfe.fit(os_data_X,os_data_y.values.ravel())\n",
    "print(rfe.support_)\n",
    "print(rfe.ranking_)"
   ]
  },
  {
   "cell_type": "code",
   "execution_count": 12,
   "metadata": {
    "colab": {
     "base_uri": "https://localhost:8080/",
     "height": 686
    },
    "colab_type": "code",
    "id": "ITNfQE6Ni82d",
    "outputId": "d9bdceba-fd26-4a91-b7c3-cdc2538fa44e"
   },
   "outputs": [
    {
     "name": "stdout",
     "output_type": "stream",
     "text": [
      "Optimization terminated successfully.\n",
      "         Current function value: 0.647467\n",
      "         Iterations 6\n",
      "                          Results: Logit\n",
      "===================================================================\n",
      "Model:              Logit              Pseudo R-squared: -0.223    \n",
      "Dependent Variable: NEXT_MONTH_DEFAULT AIC:              31118.4040\n",
      "Date:               2020-02-15 05:13   BIC:              31280.1201\n",
      "No. Observations:   24000              Log-Likelihood:   -15539.   \n",
      "Df Model:           19                 LL-Null:          -12709.   \n",
      "Df Residuals:       23980              LLR p-value:      1.0000    \n",
      "Converged:          1.0000             Scale:            1.0000    \n",
      "No. Iterations:     6.0000                                         \n",
      "-------------------------------------------------------------------\n",
      "                     Coef.  Std.Err.    z    P>|z|   [0.025  0.975]\n",
      "-------------------------------------------------------------------\n",
      "Balance_Limit_V1    -0.0382   0.0137 -2.7866 0.0053 -0.0650 -0.0113\n",
      "Gender              -0.0433   0.0136 -3.1921 0.0014 -0.0699 -0.0167\n",
      "EDUCATION_STATUS    -0.0293   0.0139 -2.1157 0.0344 -0.0565 -0.0022\n",
      "MARITAL_STATUS       0.0763   0.0137  5.5784 0.0000  0.0495  0.1031\n",
      "PAY_JULY             0.5027   0.0195 25.7966 0.0000  0.4645  0.5409\n",
      "PAY_AUG              0.1177   0.0244  4.8163 0.0000  0.0698  0.1656\n",
      "PAY_SEP              0.0468   0.0261  1.7908 0.0733 -0.0044  0.0979\n",
      "PAY_OCT              0.0242   0.0280  0.8624 0.3884 -0.0307  0.0791\n",
      "PAY_NOV              0.0236   0.0294  0.8012 0.4230 -0.0341  0.0812\n",
      "PAY_DEC              0.0237   0.0246  0.9615 0.3363 -0.0246  0.0719\n",
      "DUE_AMT_JULY        -0.2155   0.0379 -5.6879 0.0000 -0.2898 -0.1413\n",
      "DUE_AMT_SEP          0.0514   0.0610  0.8424 0.3996 -0.0681  0.1708\n",
      "DUE_AMT_OCT          0.0240   0.0589  0.4070 0.6840 -0.0915  0.1395\n",
      "DUE_AMT_DEC         -0.0123   0.0389 -0.3156 0.7523 -0.0886  0.0640\n",
      "PAID_AMT_JULY       -0.0664   0.0176 -3.7631 0.0002 -0.1010 -0.0318\n",
      "PAID_AMT_AUG        -0.0677   0.0240 -2.8181 0.0048 -0.1147 -0.0206\n",
      "PAID_AMT_SEP        -0.0210   0.0202 -1.0358 0.3003 -0.0607  0.0187\n",
      "PAID_AMT_OCT        -0.0191   0.0164 -1.1667 0.2433 -0.0513  0.0130\n",
      "PAID_AMT_NOV        -0.0092   0.0165 -0.5547 0.5791 -0.0416  0.0232\n",
      "PAID_AMT_DEC        -0.0111   0.0153 -0.7246 0.4687 -0.0410  0.0188\n",
      "===================================================================\n",
      "\n"
     ]
    }
   ],
   "source": [
    "# Select only the columns that are useful\n",
    "prediction_var_corrected = ['Balance_Limit_V1', 'Gender', 'EDUCATION_STATUS', 'MARITAL_STATUS',  'PAY_JULY', 'PAY_AUG', 'PAY_SEP', 'PAY_OCT', 'PAY_NOV', 'PAY_DEC', 'DUE_AMT_JULY', 'DUE_AMT_SEP','DUE_AMT_OCT','DUE_AMT_DEC', 'PAID_AMT_JULY', 'PAID_AMT_AUG', 'PAID_AMT_SEP', 'PAID_AMT_OCT', 'PAID_AMT_NOV', 'PAID_AMT_DEC']\n",
    "os_data_X = os_data_X[prediction_var_corrected]\n",
    "import statsmodels.api as sm\n",
    "logit_model=sm.Logit(os_data_y,os_data_X)\n",
    "result=logit_model.fit()\n",
    "print(result.summary2())"
   ]
  },
  {
   "cell_type": "code",
   "execution_count": 13,
   "metadata": {
    "colab": {
     "base_uri": "https://localhost:8080/",
     "height": 34
    },
    "colab_type": "code",
    "id": "BbyIGYSyj1VK",
    "outputId": "fb617d39-67e1-48d6-f183-401b7a12515f"
   },
   "outputs": [
    {
     "name": "stdout",
     "output_type": "stream",
     "text": [
      "Accuracy of logistic regression classifier on test set: 0.81\n"
     ]
    }
   ],
   "source": [
    "# Refine further\n",
    "prediction_var_selected = ['Balance_Limit_V1', 'Gender',  'MARITAL_STATUS',  'PAY_JULY', 'PAY_AUG', 'DUE_AMT_JULY', 'PAID_AMT_JULY', 'PAID_AMT_AUG']\n",
    "os_data_X = os_data_X[prediction_var_selected]"
   ]
  },
  {
   "cell_type": "markdown",
   "metadata": {},
   "source": [
    "## Logistic Regression"
   ]
  },
  {
   "cell_type": "code",
   "execution_count": null,
   "metadata": {},
   "outputs": [],
   "source": [
    "from sklearn.linear_model import LogisticRegression\n",
    "from sklearn import metrics\n",
    "X_train, X_test, y_train, y_test = train_test_split(os_data_X, Y, test_size=0.3, random_state=0)\n",
    "logreg = LogisticRegression(C=0.3)\n",
    "logreg.fit(X_train, y_train)\n",
    "y_pred = logreg.predict(X_test)\n",
    "print('Accuracy of logistic regression classifier on test set: {:.2f}'.format(logreg.score(X_test, y_test)))"
   ]
  },
  {
   "cell_type": "code",
   "execution_count": null,
   "metadata": {
    "colab": {},
    "colab_type": "code",
    "id": "KC1TDKUfkaoh"
   },
   "outputs": [],
   "source": [
    "test_X = pd.DataFrame(data=test,columns=prediction_var )\n",
    "test_X = test_X[prediction_var_selected]\n",
    "y_pred = logreg.predict(test_X)"
   ]
  },
  {
   "cell_type": "code",
   "execution_count": null,
   "metadata": {
    "colab": {},
    "colab_type": "code",
    "id": "203RDgw-lEUZ"
   },
   "outputs": [],
   "source": [
    "# predicting the test values and downloading the csv file\n",
    "# Y_test= (rfc.predict(test)>0.5)\n",
    "ID = pd.DataFrame(test_id, columns = ['Client_ID']) \n",
    "REV = pd.DataFrame(rfc_predict, columns = ['NEXT_MONTH_DEFAULT']) \n",
    "COLS = [ID,REV]\n",
    "result = pd.concat(COLS, axis=1)\n",
    "result.columns\n",
    "result.to_csv('Randresult.csv' , index=False) "
   ]
  },
  {
   "cell_type": "code",
   "execution_count": null,
   "metadata": {
    "colab": {
     "base_uri": "https://localhost:8080/",
     "height": 263
    },
    "colab_type": "code",
    "id": "4yrKr-VrluTY",
    "outputId": "282f7ac4-5ce4-4314-e206-ec3737db6f9f"
   },
   "outputs": [
    {
     "name": "stdout",
     "output_type": "stream",
     "text": [
      "     Client_ID  NEXT_MONTH_DEFAULT\n",
      "0       A20170                 0.0\n",
      "1       A16887                 0.0\n",
      "2        A3430                 0.0\n",
      "3        A3696                 0.0\n",
      "4       A20474                 0.0\n",
      "...        ...                 ...\n",
      "5995    A11104                 0.0\n",
      "5996     A2781                 0.0\n",
      "5997     A1767                 0.0\n",
      "5998     A1850                 0.0\n",
      "5999    A26905                 0.0\n",
      "\n",
      "[6000 rows x 2 columns]\n"
     ]
    }
   ],
   "source": []
  },
  {
   "cell_type": "code",
   "execution_count": null,
   "metadata": {
    "colab": {},
    "colab_type": "code",
    "id": "BS7GJrLzl8mg"
   },
   "outputs": [],
   "source": [
    "from google.colab import files"
   ]
  },
  {
   "cell_type": "code",
   "execution_count": null,
   "metadata": {
    "colab": {
     "base_uri": "https://localhost:8080/",
     "height": 1000
    },
    "colab_type": "code",
    "id": "weZfET4empYZ",
    "outputId": "01808f77-72d6-41b1-d6aa-e6ad690355bc"
   },
   "outputs": [
    {
     "name": "stdout",
     "output_type": "stream",
     "text": [
      "Train on 19200 samples\n",
      "Epoch 1/50\n",
      "19200/19200 [==============================] - 1s 46us/sample - loss: 0.6691 - acc: 0.6446\n",
      "Epoch 2/50\n",
      "19200/19200 [==============================] - 1s 36us/sample - loss: 0.5159 - acc: 0.7964\n",
      "Epoch 3/50\n",
      "19200/19200 [==============================] - 1s 36us/sample - loss: 0.4781 - acc: 0.8081\n",
      "Epoch 4/50\n",
      "19200/19200 [==============================] - 1s 38us/sample - loss: 0.4714 - acc: 0.8090\n",
      "Epoch 5/50\n",
      "19200/19200 [==============================] - 1s 34us/sample - loss: 0.4700 - acc: 0.8090\n",
      "Epoch 6/50\n",
      "19200/19200 [==============================] - 1s 36us/sample - loss: 0.4692 - acc: 0.8098\n",
      "Epoch 7/50\n",
      "19200/19200 [==============================] - 1s 38us/sample - loss: 0.4691 - acc: 0.8095\n",
      "Epoch 8/50\n",
      "19200/19200 [==============================] - 1s 36us/sample - loss: 0.4689 - acc: 0.8110\n",
      "Epoch 9/50\n",
      "19200/19200 [==============================] - 1s 34us/sample - loss: 0.4689 - acc: 0.8093\n",
      "Epoch 10/50\n",
      "19200/19200 [==============================] - 1s 37us/sample - loss: 0.4688 - acc: 0.8090\n",
      "Epoch 11/50\n",
      "19200/19200 [==============================] - 1s 36us/sample - loss: 0.4688 - acc: 0.8103\n",
      "Epoch 12/50\n",
      "19200/19200 [==============================] - 1s 36us/sample - loss: 0.4686 - acc: 0.8106\n",
      "Epoch 13/50\n",
      "19200/19200 [==============================] - 1s 34us/sample - loss: 0.4688 - acc: 0.8102\n",
      "Epoch 14/50\n",
      "19200/19200 [==============================] - 1s 35us/sample - loss: 0.4688 - acc: 0.8105\n",
      "Epoch 15/50\n",
      "19200/19200 [==============================] - 1s 34us/sample - loss: 0.4686 - acc: 0.8101\n",
      "Epoch 16/50\n",
      "19200/19200 [==============================] - 1s 35us/sample - loss: 0.4684 - acc: 0.8111\n",
      "Epoch 17/50\n",
      "19200/19200 [==============================] - 1s 36us/sample - loss: 0.4685 - acc: 0.8101\n",
      "Epoch 18/50\n",
      "19200/19200 [==============================] - 1s 35us/sample - loss: 0.4685 - acc: 0.8093\n",
      "Epoch 19/50\n",
      "19200/19200 [==============================] - 1s 37us/sample - loss: 0.4687 - acc: 0.8109\n",
      "Epoch 20/50\n",
      "19200/19200 [==============================] - 1s 35us/sample - loss: 0.4686 - acc: 0.8098\n",
      "Epoch 21/50\n",
      "19200/19200 [==============================] - 1s 38us/sample - loss: 0.4685 - acc: 0.8102\n",
      "Epoch 22/50\n",
      "19200/19200 [==============================] - 1s 37us/sample - loss: 0.4683 - acc: 0.8091\n",
      "Epoch 23/50\n",
      "19200/19200 [==============================] - 1s 38us/sample - loss: 0.4683 - acc: 0.8094\n",
      "Epoch 24/50\n",
      "19200/19200 [==============================] - 1s 37us/sample - loss: 0.4685 - acc: 0.8108\n",
      "Epoch 25/50\n",
      "19200/19200 [==============================] - 1s 38us/sample - loss: 0.4684 - acc: 0.8106\n",
      "Epoch 26/50\n",
      "19200/19200 [==============================] - 1s 37us/sample - loss: 0.4683 - acc: 0.8097\n",
      "Epoch 27/50\n",
      "19200/19200 [==============================] - 1s 39us/sample - loss: 0.4681 - acc: 0.8097\n",
      "Epoch 28/50\n",
      "19200/19200 [==============================] - 1s 38us/sample - loss: 0.4683 - acc: 0.8109\n",
      "Epoch 29/50\n",
      "19200/19200 [==============================] - 1s 36us/sample - loss: 0.4683 - acc: 0.8099\n",
      "Epoch 30/50\n",
      "19200/19200 [==============================] - 1s 35us/sample - loss: 0.4685 - acc: 0.8094\n",
      "Epoch 31/50\n",
      "19200/19200 [==============================] - 1s 35us/sample - loss: 0.4684 - acc: 0.8105\n",
      "Epoch 32/50\n",
      "19200/19200 [==============================] - 1s 36us/sample - loss: 0.4685 - acc: 0.8099\n",
      "Epoch 33/50\n",
      "19200/19200 [==============================] - 1s 38us/sample - loss: 0.4684 - acc: 0.8102\n",
      "Epoch 34/50\n",
      "19200/19200 [==============================] - 1s 38us/sample - loss: 0.4684 - acc: 0.8105\n",
      "Epoch 35/50\n",
      "19200/19200 [==============================] - 1s 37us/sample - loss: 0.4682 - acc: 0.8091\n",
      "Epoch 36/50\n",
      "19200/19200 [==============================] - 1s 37us/sample - loss: 0.4684 - acc: 0.8104\n",
      "Epoch 37/50\n",
      "19200/19200 [==============================] - 1s 38us/sample - loss: 0.4683 - acc: 0.8108\n",
      "Epoch 38/50\n",
      "19200/19200 [==============================] - 1s 36us/sample - loss: 0.4683 - acc: 0.8105\n",
      "Epoch 39/50\n",
      "19200/19200 [==============================] - 1s 36us/sample - loss: 0.4683 - acc: 0.8104\n",
      "Epoch 40/50\n",
      "19200/19200 [==============================] - 1s 38us/sample - loss: 0.4682 - acc: 0.8104\n",
      "Epoch 41/50\n",
      "19200/19200 [==============================] - 1s 35us/sample - loss: 0.4682 - acc: 0.8107\n",
      "Epoch 42/50\n",
      "19200/19200 [==============================] - 1s 37us/sample - loss: 0.4682 - acc: 0.8102\n",
      "Epoch 43/50\n",
      "19200/19200 [==============================] - 1s 38us/sample - loss: 0.4681 - acc: 0.8093\n",
      "Epoch 44/50\n",
      "19200/19200 [==============================] - 1s 36us/sample - loss: 0.4683 - acc: 0.8112\n",
      "Epoch 45/50\n",
      "19200/19200 [==============================] - 1s 38us/sample - loss: 0.4684 - acc: 0.8106\n",
      "Epoch 46/50\n",
      "19200/19200 [==============================] - 1s 34us/sample - loss: 0.4683 - acc: 0.8103\n",
      "Epoch 47/50\n",
      "19200/19200 [==============================] - 1s 39us/sample - loss: 0.4683 - acc: 0.8097\n",
      "Epoch 48/50\n",
      "19200/19200 [==============================] - 1s 38us/sample - loss: 0.4682 - acc: 0.8100\n",
      "Epoch 49/50\n",
      "19200/19200 [==============================] - 1s 37us/sample - loss: 0.4683 - acc: 0.8108\n",
      "Epoch 50/50\n",
      "19200/19200 [==============================] - 1s 36us/sample - loss: 0.4682 - acc: 0.8101\n"
     ]
    },
    {
     "data": {
      "text/plain": [
       "<tensorflow.python.keras.callbacks.History at 0x7f0a8bcf6128>"
      ]
     },
     "execution_count": 38,
     "metadata": {
      "tags": []
     },
     "output_type": "execute_result"
    }
   ],
   "source": [
    "\n",
    "from tensorflow import keras\n",
    "from tensorflow.keras.optimizers import RMSprop\n",
    "model = tf.keras.Sequential([keras.layers.Dense(1, input_shape=[23],activation='sigmoid')])\n",
    "model.compile(optimizer=RMSprop(lr=0.001), loss='binary_crossentropy', metrics=['accuracy'])\n",
    "model.fit(X_train, y_train, epochs=50)"
   ]
  },
  {
   "cell_type": "code",
   "execution_count": null,
   "metadata": {
    "colab": {},
    "colab_type": "code",
    "id": "CZlYJ92RnY-G"
   },
   "outputs": [],
   "source": [
    "a=model.predict(X_test)\n",
    "np.savetxt(\"foo.csv\", a, delimiter=\",\")\n",
    "from google.colab import files\n",
    "files.download(\"foo.csv\")"
   ]
  },
  {
   "cell_type": "code",
   "execution_count": null,
   "metadata": {
    "colab": {
     "base_uri": "https://localhost:8080/",
     "height": 83
    },
    "colab_type": "code",
    "id": "XrnSifaqzCkV",
    "outputId": "e5f8e41e-4e6d-4314-f6d0-e4afd2676898"
   },
   "outputs": [
    {
     "name": "stdout",
     "output_type": "stream",
     "text": [
      "[ 0.61710934 -1.24714324  0.95984434  1.09480937 -0.93266074  0.02382324\n",
      "  0.12562092  0.16521834  0.20455451  0.25154926  0.26314842 -0.17464607\n",
      " -0.13848075 -0.09166864 -0.02773625  0.04983331  0.09537452 -0.25167895\n",
      " -0.24260584 -0.19876039 -0.17300372 -0.19031842 -0.180657  ]\n"
     ]
    }
   ],
   "source": [
    "print(test[1])"
   ]
  },
  {
   "cell_type": "code",
   "execution_count": null,
   "metadata": {
    "colab": {},
    "colab_type": "code",
    "id": "FyAcBQtzs3rE"
   },
   "outputs": [],
   "source": [
    "# random forest model creation\n",
    "from sklearn.model_selection import train_test_split,StratifiedKFold,cross_val_score,RandomizedSearchCV\n",
    "from sklearn.preprocessing import LabelEncoder,StandardScaler\n",
    "from sklearn.pipeline import Pipeline\n",
    "from sklearn.ensemble.forest import RandomForestClassifier\n",
    "from sklearn.feature_selection import SelectFromModel\n",
    "rfc = RandomForestClassifier(n_estimators=600,  max_features='sqrt',max_depth= 380)\n",
    "X_train, X_test, y_train, y_test = train_test_split(X, Y, test_size=0.3, random_state=0)\n",
    "rfc.fit(X_train,y_train)\n",
    "\n",
    "# predictions\n",
    "rfc_predict = rfc.predict(X_test)\n"
   ]
  },
  {
   "cell_type": "code",
   "execution_count": 39,
   "metadata": {
    "colab": {
     "base_uri": "https://localhost:8080/",
     "height": 34
    },
    "colab_type": "code",
    "id": "jS0Bzo5AtiqX",
    "outputId": "a5f467fb-269b-422c-c983-74e41fb166f1"
   },
   "outputs": [
    {
     "data": {
      "text/plain": [
       "0.82125"
      ]
     },
     "execution_count": 39,
     "metadata": {
      "tags": []
     },
     "output_type": "execute_result"
    }
   ],
   "source": [
    "# predictions\n",
    "from sklearn.metrics import accuracy_score\n",
    "rfc_predict = rfc.predict(X_test)\n",
    "accuracy_score(y_test, rfc_predict)\n",
    "# print(\"=== Confusion Matrix ===\")\n",
    "# print(confusion_matrix(y_test, rfc_predict))\n",
    "# print(confusion_matrix(y_test, y_pred))"
   ]
  },
  {
   "cell_type": "code",
   "execution_count": null,
   "metadata": {
    "colab": {},
    "colab_type": "code",
    "id": "wGOtiVZbUPHm"
   },
   "outputs": [],
   "source": []
  }
 ],
 "metadata": {
  "colab": {
   "collapsed_sections": [],
   "name": "internalDataStrom.ipynb",
   "provenance": []
  },
  "kernelspec": {
   "display_name": "Python 3",
   "language": "python",
   "name": "python3"
  },
  "language_info": {
   "codemirror_mode": {
    "name": "ipython",
    "version": 3
   },
   "file_extension": ".py",
   "mimetype": "text/x-python",
   "name": "python",
   "nbconvert_exporter": "python",
   "pygments_lexer": "ipython3",
   "version": "3.6.5"
  }
 },
 "nbformat": 4,
 "nbformat_minor": 2
}
