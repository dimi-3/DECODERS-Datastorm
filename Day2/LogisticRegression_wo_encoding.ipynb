{
 "cells": [
  {
   "cell_type": "markdown",
   "metadata": {},
   "source": [
    "# Day 2 Logistic Regression without encoding"
   ]
  },
  {
   "cell_type": "code",
   "execution_count": 2,
   "metadata": {},
   "outputs": [],
   "source": [
    "import pandas as pd\n",
    "import numpy as np\n",
    "import matplotlib.pyplot as plt\n",
    "import seaborn as sns\n",
    "%matplotlib inline\n",
    "from sklearn import preprocessing\n",
    "from sklearn.model_selection import train_test_split\n",
    "from sklearn.linear_model import LogisticRegression"
   ]
  },
  {
   "cell_type": "code",
   "execution_count": 3,
   "metadata": {},
   "outputs": [
    {
     "data": {
      "text/html": [
       "<div>\n",
       "<style scoped>\n",
       "    .dataframe tbody tr th:only-of-type {\n",
       "        vertical-align: middle;\n",
       "    }\n",
       "\n",
       "    .dataframe tbody tr th {\n",
       "        vertical-align: top;\n",
       "    }\n",
       "\n",
       "    .dataframe thead th {\n",
       "        text-align: right;\n",
       "    }\n",
       "</style>\n",
       "<table border=\"1\" class=\"dataframe\">\n",
       "  <thead>\n",
       "    <tr style=\"text-align: right;\">\n",
       "      <th></th>\n",
       "      <th>Client_ID</th>\n",
       "      <th>Balance_Limit_V1</th>\n",
       "      <th>Gender</th>\n",
       "      <th>EDUCATION_STATUS</th>\n",
       "      <th>MARITAL_STATUS</th>\n",
       "      <th>AGE</th>\n",
       "      <th>PAY_JULY</th>\n",
       "      <th>PAY_AUG</th>\n",
       "      <th>PAY_SEP</th>\n",
       "      <th>PAY_OCT</th>\n",
       "      <th>...</th>\n",
       "      <th>DUE_AMT_OCT</th>\n",
       "      <th>DUE_AMT_NOV</th>\n",
       "      <th>DUE_AMT_DEC</th>\n",
       "      <th>PAID_AMT_JULY</th>\n",
       "      <th>PAID_AMT_AUG</th>\n",
       "      <th>PAID_AMT_SEP</th>\n",
       "      <th>PAID_AMT_OCT</th>\n",
       "      <th>PAID_AMT_NOV</th>\n",
       "      <th>PAID_AMT_DEC</th>\n",
       "      <th>NEXT_MONTH_DEFAULT</th>\n",
       "    </tr>\n",
       "  </thead>\n",
       "  <tbody>\n",
       "    <tr>\n",
       "      <th>0</th>\n",
       "      <td>A2</td>\n",
       "      <td>1M</td>\n",
       "      <td>M</td>\n",
       "      <td>Graduate</td>\n",
       "      <td>Other</td>\n",
       "      <td>31-45</td>\n",
       "      <td>-1</td>\n",
       "      <td>-1</td>\n",
       "      <td>-1</td>\n",
       "      <td>-1</td>\n",
       "      <td>...</td>\n",
       "      <td>39418</td>\n",
       "      <td>162772</td>\n",
       "      <td>-13982</td>\n",
       "      <td>3437</td>\n",
       "      <td>6004</td>\n",
       "      <td>39418</td>\n",
       "      <td>162772</td>\n",
       "      <td>0</td>\n",
       "      <td>538165</td>\n",
       "      <td>0</td>\n",
       "    </tr>\n",
       "    <tr>\n",
       "      <th>1</th>\n",
       "      <td>A3</td>\n",
       "      <td>1M</td>\n",
       "      <td>F</td>\n",
       "      <td>High School</td>\n",
       "      <td>Other</td>\n",
       "      <td>Less than 30</td>\n",
       "      <td>0</td>\n",
       "      <td>-1</td>\n",
       "      <td>-1</td>\n",
       "      <td>-1</td>\n",
       "      <td>...</td>\n",
       "      <td>43530</td>\n",
       "      <td>80811</td>\n",
       "      <td>124590</td>\n",
       "      <td>151818</td>\n",
       "      <td>46200</td>\n",
       "      <td>43530</td>\n",
       "      <td>80811</td>\n",
       "      <td>942</td>\n",
       "      <td>33666</td>\n",
       "      <td>0</td>\n",
       "    </tr>\n",
       "    <tr>\n",
       "      <th>2</th>\n",
       "      <td>A4</td>\n",
       "      <td>100K</td>\n",
       "      <td>F</td>\n",
       "      <td>High School</td>\n",
       "      <td>Single</td>\n",
       "      <td>31-45</td>\n",
       "      <td>4</td>\n",
       "      <td>3</td>\n",
       "      <td>2</td>\n",
       "      <td>2</td>\n",
       "      <td>...</td>\n",
       "      <td>0</td>\n",
       "      <td>0</td>\n",
       "      <td>0</td>\n",
       "      <td>0</td>\n",
       "      <td>0</td>\n",
       "      <td>0</td>\n",
       "      <td>0</td>\n",
       "      <td>0</td>\n",
       "      <td>0</td>\n",
       "      <td>1</td>\n",
       "    </tr>\n",
       "  </tbody>\n",
       "</table>\n",
       "<p>3 rows × 25 columns</p>\n",
       "</div>"
      ],
      "text/plain": [
       "  Client_ID Balance_Limit_V1 Gender EDUCATION_STATUS MARITAL_STATUS  \\\n",
       "0        A2               1M      M         Graduate          Other   \n",
       "1        A3               1M      F      High School          Other   \n",
       "2        A4             100K      F      High School         Single   \n",
       "\n",
       "            AGE  PAY_JULY  PAY_AUG  PAY_SEP  PAY_OCT         ...          \\\n",
       "0         31-45        -1       -1       -1       -1         ...           \n",
       "1  Less than 30         0       -1       -1       -1         ...           \n",
       "2         31-45         4        3        2        2         ...           \n",
       "\n",
       "   DUE_AMT_OCT  DUE_AMT_NOV  DUE_AMT_DEC  PAID_AMT_JULY  PAID_AMT_AUG  \\\n",
       "0        39418       162772       -13982           3437          6004   \n",
       "1        43530        80811       124590         151818         46200   \n",
       "2            0            0            0              0             0   \n",
       "\n",
       "   PAID_AMT_SEP  PAID_AMT_OCT  PAID_AMT_NOV  PAID_AMT_DEC  NEXT_MONTH_DEFAULT  \n",
       "0         39418        162772             0        538165                   0  \n",
       "1         43530         80811           942         33666                   0  \n",
       "2             0             0             0             0                   1  \n",
       "\n",
       "[3 rows x 25 columns]"
      ]
     },
     "execution_count": 3,
     "metadata": {},
     "output_type": "execute_result"
    }
   ],
   "source": [
    "data = pd.read_csv(\"../Dataset/credit_card_default_train.csv\")\n",
    "test_data= pd.read_csv(\"../Dataset/credit_card_default_test.csv\")\n",
    "# print(data.shape , test_data.shape)\n",
    "# print(data.columns)\n",
    "data.head(n=3)"
   ]
  },
  {
   "cell_type": "markdown",
   "metadata": {},
   "source": [
    "## Data Wrangling"
   ]
  },
  {
   "cell_type": "code",
   "execution_count": 4,
   "metadata": {},
   "outputs": [],
   "source": [
    "# split data\n",
    "prediction_var = ['Balance_Limit_V1', 'Gender', 'EDUCATION_STATUS', 'MARITAL_STATUS', 'AGE', 'PAY_JULY', 'PAY_AUG', 'PAY_SEP', 'PAY_OCT', 'PAY_NOV', 'PAY_DEC', 'DUE_AMT_JULY', 'DUE_AMT_AUG', 'DUE_AMT_SEP','DUE_AMT_OCT','DUE_AMT_NOV','DUE_AMT_DEC', 'PAID_AMT_JULY', 'PAID_AMT_AUG', 'PAID_AMT_SEP', 'PAID_AMT_OCT', 'PAID_AMT_NOV', 'PAID_AMT_DEC']\n",
    "X = data[prediction_var]\n",
    "Y = data.NEXT_MONTH_DEFAULT\n",
    "test_id= test_data['Client_ID']\n",
    "test_data = test_data[prediction_var]\n"
   ]
  },
  {
   "cell_type": "markdown",
   "metadata": {},
   "source": [
    "Manual encoding for Balance_Limit so that the Limit value is considered"
   ]
  },
  {
   "cell_type": "code",
   "execution_count": 5,
   "metadata": {},
   "outputs": [],
   "source": [
    "# encode catergorical varaibles\n",
    "for i in range(len(X.Balance_Limit_V1)):\n",
    "    if (X.Balance_Limit_V1.at[i] == '100K'):\n",
    "        X.Balance_Limit_V1.at[i] = 100000\n",
    "    elif (X.Balance_Limit_V1.at[i] == '200K'):\n",
    "        X.Balance_Limit_V1.at[i] = 200000\n",
    "    elif (X.Balance_Limit_V1.at[i] == '300K'):\n",
    "        X.Balance_Limit_V1.at[i] = 300000\n",
    "    elif (X.Balance_Limit_V1.at[i] == '400K'):\n",
    "        X.Balance_Limit_V1.at[i] = 400000\n",
    "    elif (X.Balance_Limit_V1.at[i] == ' 500K'):\n",
    "        X.Balance_Limit_V1.at[i] = 500000\n",
    "    elif (X.Balance_Limit_V1.at[i] == '1M'):\n",
    "        X.Balance_Limit_V1.at[i] = 1000000\n",
    "    elif (X.Balance_Limit_V1.at[i] == '1.5M'):\n",
    "        X.Balance_Limit_V1.at[i] = 1500000\n",
    "    elif (X.Balance_Limit_V1.at[i] == '2.5M'):\n",
    "        X.Balance_Limit_V1.at[i] = 2500000\n",
    "\n",
    "for i in range(len(test_data.Balance_Limit_V1)):\n",
    "    if (test_data.Balance_Limit_V1.at[i] == '100K'):\n",
    "        test_data.Balance_Limit_V1.at[i] = 100000\n",
    "    elif (test_data.Balance_Limit_V1.at[i] == '200K'):\n",
    "        test_data.Balance_Limit_V1.at[i] = 200000\n",
    "    elif (test_data.Balance_Limit_V1.at[i] == '300K'):\n",
    "        test_data.Balance_Limit_V1.at[i] = 300000\n",
    "    elif (test_data.Balance_Limit_V1.at[i] == '400K'):\n",
    "        test_data.Balance_Limit_V1.at[i] = 400000\n",
    "    elif (test_data.Balance_Limit_V1.at[i] == ' 500K'):\n",
    "        test_data.Balance_Limit_V1.at[i] = 500000\n",
    "    elif (test_data.Balance_Limit_V1.at[i] == '1M'):\n",
    "        test_data.Balance_Limit_V1.at[i] = 1000000\n",
    "    elif (test_data.Balance_Limit_V1.at[i] == '1.5M'):\n",
    "        test_data.Balance_Limit_V1.at[i] = 1500000\n",
    "    elif (test_data.Balance_Limit_V1.at[i] == '2.5M'):\n",
    "        test_data.Balance_Limit_V1.at[i] = 2500000"
   ]
  },
  {
   "cell_type": "code",
   "execution_count": 6,
   "metadata": {},
   "outputs": [
    {
     "name": "stderr",
     "output_type": "stream",
     "text": [
      "F:\\Program Files\\anaconda\\lib\\site-packages\\pandas\\core\\frame.py:3137: SettingWithCopyWarning: \n",
      "A value is trying to be set on a copy of a slice from a DataFrame.\n",
      "Try using .loc[row_indexer,col_indexer] = value instead\n",
      "\n",
      "See the caveats in the documentation: http://pandas.pydata.org/pandas-docs/stable/indexing.html#indexing-view-versus-copy\n",
      "  self[k1] = value[k2]\n"
     ]
    }
   ],
   "source": [
    "to_normalize = ['Balance_Limit_V1','DUE_AMT_JULY', 'DUE_AMT_AUG', 'DUE_AMT_SEP','DUE_AMT_OCT', 'DUE_AMT_NOV', 'DUE_AMT_DEC', 'PAID_AMT_JULY',\n",
    "                 'PAID_AMT_AUG', 'PAID_AMT_SEP', 'PAID_AMT_OCT', 'PAID_AMT_NOV','PAID_AMT_DEC']\n",
    "# X[to_normalize] = preprocessing.normalize(X[to_normalize])\n",
    "X[to_normalize]=X[to_normalize].apply(lambda x: (x-np.mean(x))/np.std(x))\n",
    "test_data[to_normalize]=test_data[to_normalize].apply(lambda x: (x-np.mean(x))/np.std(x))"
   ]
  },
  {
   "cell_type": "code",
   "execution_count": 7,
   "metadata": {},
   "outputs": [],
   "source": [
    "cat_vars=['Gender', 'EDUCATION_STATUS','MARITAL_STATUS', 'AGE', 'PAY_JULY', 'PAY_AUG', 'PAY_SEP', 'PAY_OCT','PAY_NOV', 'PAY_DEC']\n",
    "for var in cat_vars:\n",
    "    cat_list=\"var\"+'_'+var\n",
    "    cat_list=pd.get_dummies(X[var], prefix=var)\n",
    "    X=X.join(cat_list)\n",
    "data_var=X.columns.values.tolist()\n",
    "to_keep=[i for i in data_var if i not in cat_vars]\n",
    "X=X[to_keep]\n",
    "\n",
    "at_vars=['Gender', 'EDUCATION_STATUS','MARITAL_STATUS', 'AGE', 'PAY_JULY', 'PAY_AUG', 'PAY_SEP', 'PAY_OCT','PAY_NOV', 'PAY_DEC']\n",
    "for var in cat_vars:\n",
    "    cat_list=\"var\"+'_'+var\n",
    "    cat_list=pd.get_dummies(test_data[var], prefix=var)\n",
    "    test_data=test_data.join(cat_list)\n",
    "data_var=test_data.columns.values.tolist()\n",
    "to_keep=[i for i in data_var if i not in cat_vars]\n",
    "test_data = test_data[to_keep]\n",
    "\n",
    "test_data['PAY_SEP_1'] = 0\n",
    "test_data['PAY_OCT_1'] = 0\n",
    "test_data['PAY_AUG_8'] = 0\n",
    "test_data['PAY_OCT_8'] = 0\n",
    "test_data['PAY_NOV_8'] = 0\n",
    "test_data['PAY_DEC_8'] = 0\n"
   ]
  },
  {
   "cell_type": "code",
   "execution_count": 8,
   "metadata": {},
   "outputs": [],
   "source": [
    "# Ensure both train and test data are the same dimension\n",
    "final_columns =['Balance_Limit_V1', 'DUE_AMT_JULY', 'DUE_AMT_AUG',\n",
    "       'DUE_AMT_SEP', 'DUE_AMT_OCT', 'DUE_AMT_NOV', 'DUE_AMT_DEC',\n",
    "       'PAID_AMT_JULY', 'PAID_AMT_AUG', 'PAID_AMT_SEP', 'PAID_AMT_OCT',\n",
    "       'PAID_AMT_NOV', 'PAID_AMT_DEC', 'Gender_F',\n",
    "        'EDUCATION_STATUS_Graduate',\n",
    "       'EDUCATION_STATUS_High School', \n",
    "       'MARITAL_STATUS_Other',  'AGE_31-45',\n",
    "       'AGE_46-65', 'AGE_Less than 30',  'PAY_JULY_-2',\n",
    "       'PAY_JULY_-1', 'PAY_JULY_1', 'PAY_JULY_2',\n",
    "       'PAY_JULY_3', 'PAY_JULY_4', 'PAY_JULY_5', 'PAY_JULY_6',\n",
    "       'PAY_JULY_7', 'PAY_JULY_8', 'PAY_AUG_-2', 'PAY_AUG_-1',\n",
    "        'PAY_AUG_1', 'PAY_AUG_2', 'PAY_AUG_3', 'PAY_AUG_4',\n",
    "       'PAY_AUG_5', 'PAY_AUG_6', 'PAY_AUG_7', 'PAY_AUG_8', 'PAY_SEP_-2',\n",
    "       'PAY_SEP_-1',  'PAY_SEP_1', 'PAY_SEP_2', 'PAY_SEP_3',\n",
    "       'PAY_SEP_4', 'PAY_SEP_5', 'PAY_SEP_6', 'PAY_SEP_7', 'PAY_SEP_8',\n",
    "       'PAY_OCT_-2', 'PAY_OCT_-1',  'PAY_OCT_1', 'PAY_OCT_2',\n",
    "       'PAY_OCT_3', 'PAY_OCT_4', 'PAY_OCT_5', 'PAY_OCT_6', 'PAY_OCT_7',\n",
    "       'PAY_OCT_8', 'PAY_NOV_-2', 'PAY_NOV_-1',  'PAY_NOV_2',\n",
    "       'PAY_NOV_3', 'PAY_NOV_4', 'PAY_NOV_5', 'PAY_NOV_6', 'PAY_NOV_7',\n",
    "       'PAY_NOV_8', 'PAY_DEC_-2', 'PAY_DEC_-1',  'PAY_DEC_2',\n",
    "       'PAY_DEC_3', 'PAY_DEC_4', 'PAY_DEC_5', 'PAY_DEC_6', 'PAY_DEC_7',\n",
    "       'PAY_DEC_8']\n",
    "X = X[final_columns]\n",
    "test_data=test_data[final_columns]"
   ]
  },
  {
   "cell_type": "markdown",
   "metadata": {},
   "source": [
    "## Logistic Regression model"
   ]
  },
  {
   "cell_type": "code",
   "execution_count": null,
   "metadata": {},
   "outputs": [
    {
     "ename": "Error",
     "evalue": "Jupyter notebook failed to launch. \r\nError: The Jupyter notebook server failed to launch in time",
     "output_type": "error",
     "traceback": [
      "Error: Jupyter notebook failed to launch.",
      "Error: The Jupyter notebook server failed to launch in time",
      "at E.start (c:\\Users\\CPN\\.vscode\\extensions\\ms-python.python-2020.2.63072\\out\\client\\extension.js:1:820465)"
     ]
    }
   ],
   "source": [
    "# Training\n",
    "X_train, X_test, y_train, y_test = train_test_split(X, Y, test_size=0.3, random_state=0)\n",
    "logistic_regression = LogisticRegression()\n",
    "logistic_regression.fit(X_train,y_train)"
   ]
  },
  {
   "cell_type": "code",
   "execution_count": null,
   "metadata": {},
   "outputs": [
    {
     "ename": "Error",
     "evalue": "Jupyter notebook failed to launch. \r\nError: The Jupyter notebook server failed to launch in time",
     "output_type": "error",
     "traceback": [
      "Error: Jupyter notebook failed to launch.",
      "Error: The Jupyter notebook server failed to launch in time",
      "at E.start (c:\\Users\\CPN\\.vscode\\extensions\\ms-python.python-2020.2.63072\\out\\client\\extension.js:1:820465)"
     ]
    }
   ],
   "source": [
    "y_pred = logistic_regression.predict(X_test)"
   ]
  },
  {
   "cell_type": "code",
   "execution_count": null,
   "metadata": {},
   "outputs": [
    {
     "ename": "Error",
     "evalue": "Jupyter notebook failed to launch. \r\nError: The Jupyter notebook server failed to launch in time",
     "output_type": "error",
     "traceback": [
      "Error: Jupyter notebook failed to launch.",
      "Error: The Jupyter notebook server failed to launch in time",
      "at E.start (c:\\Users\\CPN\\.vscode\\extensions\\ms-python.python-2020.2.63072\\out\\client\\extension.js:1:820465)"
     ]
    }
   ],
   "source": [
    "from sklearn.metrics import accuracy_score, classification_report\n",
    "accuracy = accuracy_score(y_test, y_pred)\n",
    "accuracy_percentage = 100 * accuracy\n",
    "print(\"Accuracy:\",accuracy_percentage)\n",
    "print(classification_report(y_test, y_pred))"
   ]
  },
  {
   "cell_type": "code",
   "execution_count": null,
   "metadata": {},
   "outputs": [
    {
     "ename": "Error",
     "evalue": "Jupyter notebook failed to launch. \r\nError: The Jupyter notebook server failed to launch in time",
     "output_type": "error",
     "traceback": [
      "Error: Jupyter notebook failed to launch.",
      "Error: The Jupyter notebook server failed to launch in time",
      "at E.start (c:\\Users\\CPN\\.vscode\\extensions\\ms-python.python-2020.2.63072\\out\\client\\extension.js:1:820465)"
     ]
    }
   ],
   "source": [
    "# Predicting for test data\n",
    "predictions = logistic_regression.predict(test_data)\n",
    "\n",
    "# Save results in the format required\n",
    "ID = pd.DataFrame(test_id, columns = ['Client_ID']) \n",
    "REV = pd.DataFrame(predictions, columns = ['NEXT_MONTH_DEFAULT']) \n",
    "COLS = [ID,REV]\n",
    "result = pd.concat(COLS, axis=1)\n",
    "result.columns\n",
    "result.to_csv('Randresult.csv',  index=False) "
   ]
  },
  {
   "cell_type": "code",
   "execution_count": null,
   "metadata": {},
   "outputs": [],
   "source": []
  }
 ],
 "metadata": {
  "kernelspec": {
   "display_name": "Python 3",
   "language": "python",
   "name": "python3"
  },
  "language_info": {
   "codemirror_mode": {
    "name": "ipython",
    "version": 3
   },
   "file_extension": ".py",
   "mimetype": "text/x-python",
   "name": "python",
   "nbconvert_exporter": "python",
   "pygments_lexer": "ipython3",
   "version": "3.6.5"
  }
 },
 "nbformat": 4,
 "nbformat_minor": 2
}
